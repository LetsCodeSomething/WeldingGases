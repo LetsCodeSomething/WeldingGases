{
  "cells": [
    {
      "cell_type": "markdown",
      "metadata": {
        "id": "gFyxPmeYwZ3g"
      },
      "source": [
        "# Извлечение данных с помощью Gemma 1 2b"
      ]
    },
    {
      "cell_type": "markdown",
      "metadata": {
        "id": "3kZOQgNhUIxt"
      },
      "source": [
        "## Загрузка и установка Gemma из Kaggle"
      ]
    },
    {
      "cell_type": "code",
      "execution_count": null,
      "metadata": {
        "id": "nNrIVl8gUMcV"
      },
      "outputs": [],
      "source": [
        "!pip install -q -U tf-keras\n",
        "!pip install -q -U keras-nlp==0.10.0\n",
        "!pip install -q -U kagglehub>=0.2.4\n",
        "!pip install -q -U keras>=3"
      ]
    },
    {
      "cell_type": "code",
      "execution_count": null,
      "metadata": {
        "id": "_CgxAJC_UN97"
      },
      "outputs": [],
      "source": [
        "import os\n",
        "from google.colab import userdata\n",
        "\n",
        "os.environ[\"KAGGLE_USERNAME\"] = userdata.get('KAGGLE_USERNAME')\n",
        "os.environ[\"KAGGLE_KEY\"] = userdata.get('KAGGLE_KEY')\n",
        "\n",
        "os.environ[\"KERAS_BACKEND\"] = \"jax\"\n",
        "#Avoid memory fragmentation on JAX backend.\n",
        "os.environ[\"XLA_PYTHON_CLIENT_MEM_FRACTION\"]=\"1.00\"\n",
        "\n",
        "import keras_nlp\n",
        "import keras\n",
        "import csv\n",
        "\n",
        "print(\"KerasNLP version: \", keras_nlp.__version__)\n",
        "print(\"Keras version: \", keras.__version__)"
      ]
    },
    {
      "cell_type": "code",
      "execution_count": null,
      "metadata": {
        "id": "W0SigPZ4UbFi"
      },
      "outputs": [],
      "source": [
        "gemma_lm = keras_nlp.models.GemmaCausalLM.from_preset(\"gemma_2b_en\")"
      ]
    },
    {
      "cell_type": "markdown",
      "metadata": {
        "id": "3mVYXet1wSJV"
      },
      "source": [
        "## Подготовка датасета"
      ]
    },
    {
      "cell_type": "code",
      "execution_count": null,
      "metadata": {
        "id": "LADUX8i8wP2K"
      },
      "outputs": [],
      "source": [
        "!mkdir \"dataset\"\n",
        "!mv niikm_data.zip dataset\n",
        "%cd dataset\n",
        "!unzip niikm_data.zip\n",
        "!rm niikm_data.zip\n",
        "%cd .."
      ]
    },
    {
      "cell_type": "code",
      "execution_count": null,
      "metadata": {
        "id": "e1UQG-H5yWeX"
      },
      "outputs": [],
      "source": [
        "DATASET_FOLDER = \"dataset/\"\n",
        "dataset_file_names = os.listdir(DATASET_FOLDER)\n",
        "\n",
        "dataset = []\n",
        "loaded_file_count = 0\n",
        "ignored_file_count = 0\n",
        "\n",
        "print(\"Загрузка датасета...\")\n",
        "for i in dataset_file_names:\n",
        "    f = open(DATASET_FOLDER + i, 'r', encoding=\"utf-8\")\n",
        "\n",
        "    #Файлы, не содержащие информацию о ГОСТ или другом нормативном документе, игнорируются.\n",
        "    buffer = f.readlines()\n",
        "    ignore = True\n",
        "    for j in buffer:\n",
        "        if j.find(\"ГОСТ\") != -1:\n",
        "            ignore = False\n",
        "            break\n",
        "    if ignore:\n",
        "        print(\"    INFO: Файл \\\"\" + i + \"\\\" не содержит информацию о ГОСТ. Файл пропущен.\")\n",
        "        ignored_file_count += 1\n",
        "    else:\n",
        "        loaded_file_count += 1\n",
        "        buffer2 = \"\"\n",
        "        for j in buffer:\n",
        "            buffer2 += j\n",
        "        dataset.append(buffer2)\n",
        "\n",
        "    f.close()\n",
        "\n",
        "print(\"Завершено (\" + str(len(dataset_file_names)) + \" всего, \" + str(loaded_file_count) + \" загружено, \" + str(ignored_file_count) + \" пропущено).\")"
      ]
    },
    {
      "cell_type": "markdown",
      "metadata": {
        "id": "blBCS8yrwhUj"
      },
      "source": [
        "## Генерация данных"
      ]
    },
    {
      "cell_type": "code",
      "execution_count": null,
      "metadata": {
        "colab": {
          "base_uri": "https://localhost:8080/"
        },
        "id": "TDErw95AU3K2",
        "outputId": "620cb734-fe6f-43ab-e2bf-01c05b8c69af"
      },
      "outputs": [
        {
          "name": "stdout",
          "output_type": "stream",
          "text": [
            "Ты - ИИ-помощник, созданный для поиска информации о свойствах газа в тексте и её преобразовании в формат JSON.\n",
            "Оформи ответ на вопрос в соответствии с примером. В ответе должно быть:\n",
            "- название основного газа в составе;\n",
            "- название газа;\n",
            "- химическую формулу газа;\n",
            "- ГОСТ, задающий требования к качеству газа.\n",
            "\n",
            "ПРИМЕР ВОПРОСА:\n",
            "НАЗВАНИЕ: Азот жидкий особой чистоты 1 сорт\n",
            "ГОСТ / НОРМАТИВНЫЙ ДОКУМЕНТ: ГОСТ 9293 - 74\n",
            "ТРЕБОВАНИЯ К ПРОДУКТУ ПО ГОСТ:\n",
            "        Наименование показателя                Норма по ГОСТ\n",
            "        Объёмная доля азота, % не менее                99,999\n",
            "        Объёмная доля кислорода, % не более                0,0005\n",
            "        Содержание масла, механических примесей и влаги                выдерживает испытание\n",
            "        Объёмная доля водорода, % не более                0,0002\n",
            "        Объёмная доля суммы углеродсодержащих соединений в пересчете на СН4, % не более                0,0003\n",
            "ОСНОВНЫЕ СВОЙСТВА:\n",
            "Латинское название:  Nitrogenium\n",
            "CAS номер: 7727-37-9\n",
            "UN газа: 1066\n",
            "UN жидкости: 1977\n",
            "Код ООН: 1006\n",
            "Физико-химические свойства:\n",
            "Электронная конфигурация: 2s22p3\n",
            "Молекулярая масса: 28.0134\n",
            "Степень окисления: от +5 до -3\n",
            "Плотность: 1,251\n",
            "Удельная теплоёмкость: 1,034\n",
            "Теплопроводность: 0,026\n",
            "t кипения: -195,8 °C\n",
            "t плавления: -210 °C\n",
            "Внешние признаки: Без цвета вкуса и запаха, химически весьма инертен\n",
            "\n",
            "ПРИМЕР ОТВЕТА: {\"based_on\":\"на основе Азота\",\"gas_name\":\"Азот жидкий особой чистоты 1 сорт\",\"gas_letter\":\"Ar\",\"state_standard\":\"ГОСТ 9293 - 74\"}.\n",
            "\n",
            "ВОПРОС: НАЗВАНИЕ: Водород газообразный особо чистый марки В\n",
            "ГОСТ / НОРМАТИВНЫЙ ДОКУМЕНТ: ТУ 2114-016-78538315-2008\n",
            "ТРЕБОВАНИЯ К ПРОДУКТУ ПО ГОСТ:\n",
            "        Наименование показателя                Норма по ТУ                \n",
            "        Объёмная доля водорода в пересчёте на сухой газ, %, не менее                99,999                \n",
            "        Объёмная доля кислорода млн-1, (ppmv) не более                2                \n",
            "        Объёмная доля азота млн-1, (ppmv) не более                8                \n",
            "        Объёмная доля влаги млн-1, не более (точка росы при 101,3 кПа, °С, не выше):                                \n",
            "        а) в баллонах под давлением                10 (минус 60)                \n",
            "        б) в трубопроводе                0,5 (минус 80)                \n",
            "ОСНОВНЫЕ СВОЙСТВА:\n",
            "Латинское название: Hydrogenium\n",
            "CAS номер: 1333-74-0 \n",
            "UN газа: 1049 \n",
            "UN жидкости: 1966\n",
            "Код ООН: 1048\n",
            "Класс опасного груза: 2,3\n",
            "Физико-химические свойства:\n",
            "Электронная конфигурация: 1s1\n",
            "Молекулярая масса: 2.016 \n",
            "Степень окисления: от +1 до -1\n",
            "Плотность: 0,0898\n",
            "Удельная теплоёмкость: 1.384259\n",
            "Теплопроводность: 168.35\n",
            "t кипения: -252,8\n",
            "t плавления: -259,1\n",
            "Внешние признаки: газ без цвета вкуса  и запаха\n",
            "\n",
            "ОТВЕТ: {\"based_on\":\"на основе водорода\",\"gas_name\":\"Водород газообразный особо чистый марки В\",\"gas_letter\":\"H\",\"state_standard\":\"ТУ 2114-016-78538315-2008\"}.\n"
          ]
        }
      ],
      "source": [
        "template = \"\"\"Ты - ИИ-помощник, созданный для поиска информации о свойствах газа в тексте и её преобразовании в формат JSON.\n",
        "Оформи ответ на вопрос в соответствии с примером. В ответе должно быть:\n",
        "- название основного газа в составе;\n",
        "- название газа;\n",
        "- химическая формула газа;\n",
        "- ГОСТ, задающий требования к качеству газа.\n",
        "\n",
        "ПРИМЕР ВОПРОСА:\n",
        "НАЗВАНИЕ: Азот жидкий особой чистоты 1 сорт\n",
        "ГОСТ / НОРМАТИВНЫЙ ДОКУМЕНТ: ГОСТ 9293 - 74\n",
        "ТРЕБОВАНИЯ К ПРОДУКТУ ПО ГОСТ:\n",
        "        Наименование показателя                Норма по ГОСТ\n",
        "        Объёмная доля азота, % не менее                99,999\n",
        "        Объёмная доля кислорода, % не более                0,0005\n",
        "        Содержание масла, механических примесей и влаги                выдерживает испытание\n",
        "        Объёмная доля водорода, % не более                0,0002\n",
        "        Объёмная доля суммы углеродсодержащих соединений в пересчете на СН4, % не более                0,0003\n",
        "ОСНОВНЫЕ СВОЙСТВА:\n",
        "Латинское название:  Nitrogenium\n",
        "CAS номер: 7727-37-9\n",
        "UN газа: 1066\n",
        "UN жидкости: 1977\n",
        "Код ООН: 1006\n",
        "Физико-химические свойства:\n",
        "Электронная конфигурация: 2s22p3\n",
        "Молекулярая масса: 28.0134\n",
        "Степень окисления: от +5 до -3\n",
        "Плотность: 1,251\n",
        "Удельная теплоёмкость: 1,034\n",
        "Теплопроводность: 0,026\n",
        "t кипения: -195,8 °C\n",
        "t плавления: -210 °C\n",
        "Внешние признаки: Без цвета вкуса и запаха, химически весьма инертен\n",
        "\n",
        "ПРИМЕР ОТВЕТА: {\"based_on\":\"на основе Азота\",\"gas_name\":\"Азот жидкий особой чистоты 1 сорт\",\"gas_letter\":\"Ar\",\"state_standard\":\"ГОСТ 9293 - 74\"}.\"\"\"\n",
        "\n",
        "prompt = template + \"\\n\\nВОПРОС: \" + dataset[0] + \"\\nОТВЕТ:\"\n",
        "\n",
        "generated = gemma_lm.generate(prompt, max_length=1100)\n",
        "print(generated)"
      ]
    },
    {
      "cell_type": "code",
      "execution_count": null,
      "metadata": {
        "colab": {
          "base_uri": "https://localhost:8080/"
        },
        "id": "4GqYS2nxhE4x",
        "outputId": "d7317e0a-1177-4630-a3d5-51eb3c3e9afe"
      },
      "outputs": [
        {
          "name": "stdout",
          "output_type": "stream",
          "text": [
            "{\"based_on\":\"на основе водорода\",\"gas_name\":\"Водород газообразный особо чистый марки В\",\"gas_letter\":\"H\",\"state_standard\":\"ТУ 2114-016-78538315-2008\"}\n"
          ]
        }
      ],
      "source": [
        "first_position = generated.find(\"{\", generated.find(\"{\") + 1)\n",
        "last_position = generated.rfind(\"}\")\n",
        "\n",
        "print(generated[first_position:last_position + 1])"
      ]
    },
    {
      "cell_type": "code",
      "execution_count": null,
      "metadata": {
        "colab": {
          "base_uri": "https://localhost:8080/"
        },
        "id": "u9zKdD8r_Nr3",
        "outputId": "dc5a2886-9137-4843-8a07-306f2d21b577"
      },
      "outputs": [],
      "source": [
        "def extract_gas_composition(gemma_lm, sample):\n",
        "    template = \"\"\"Ты - ИИ-помощник, созданный для поиска информации о составе газа в тексте.\n",
        "Оформи ответ на вопрос в соответствии с примером. Каждый пункт ответа должен включать:\n",
        "- название компонента газа из вопроса;\n",
        "- химическую формулу компонента газа из вопроса;\n",
        "- объёмную долю компонента газа из вопроса.\n",
        "\n",
        "ПРИМЕР ВОПРОСА:\n",
        "НАЗВАНИЕ: Азот жидкий особой чистоты 1 сорт\n",
        "ГОСТ / НОРМАТИВНЫЙ ДОКУМЕНТ: ГОСТ 9293 - 74\n",
        "ТРЕБОВАНИЯ К ПРОДУКТУ ПО ГОСТ:\n",
        "        Наименование показателя                Норма по ГОСТ\n",
        "        Объёмная доля азота, % не менее                99,999\n",
        "        Объёмная доля кислорода, % не более                0,0005\n",
        "        Содержание масла, механических примесей и влаги                выдерживает испытание\n",
        "        Объёмная доля водорода, % не более                0,0002\n",
        "        Объёмная доля суммы углеродсодержащих соединений в пересчете на СН4, % не более                0,0003\n",
        "ОСНОВНЫЕ СВОЙСТВА:\n",
        "Латинское название:  Nitrogenium\n",
        "CAS номер: 7727-37-9\n",
        "UN газа: 1066\n",
        "UN жидкости: 1977\n",
        "Код ООН: 1006\n",
        "Физико-химические свойства:\n",
        "Электронная конфигурация: 2s22p3\n",
        "Молекулярая масса: 28.0134\n",
        "Степень окисления: от +5 до -3\n",
        "Плотность: 1,251\n",
        "Удельная теплоёмкость: 1,034\n",
        "Теплопроводность: 0,026\n",
        "t кипения: -195,8 °C\n",
        "t плавления: -210 °C\n",
        "Внешние признаки: Без цвета вкуса и запаха, химически весьма инертен\n",
        "\n",
        "ПРИМЕР ОТВЕТА:\n",
        "* Азот - N - не менее 99.999%\n",
        "* Кислород - O - не более 0.0005%\n",
        "* Водород - H - не более 0.0002%\n",
        "\n",
        "ВОПРОС:\n",
        "\"\"\"\n",
        "    #Периодически gemma начинает галлюцинировать. При некоторых вводах она упорно выводит\n",
        "    #в ответе информацию про оксид азота, даже если в тексте о нём нет ни слова.\n",
        "    #Проблемы также вызывает непоследовательность в формате таблиц.\n",
        "    print(\"    Извлечение состава в виде списка...\")\n",
        "\n",
        "    prompt = template + sample + \"\\nОТВЕТ: \"\n",
        "    raw_response = gemma_lm.generate(prompt, max_length=1200)\n",
        "    composition_list = \"\"\n",
        "    for i in raw_response[raw_response.rfind(\"ОТВЕТ:\")+6:len(raw_response)].split('*'):\n",
        "        composition_list += i\n",
        "    if len(composition_list) == 0:\n",
        "        print(\"    ОШИБКА: Gemma не нашла данные о составе продукта.\")\n",
        "        return None\n",
        "\n",
        "    print(\"        Завершено.\\n    Преобразование списка в запись в формате JSON...\")\n",
        "\n",
        "    template = \"\"\"Ты - ИИ-помощник, преобразующий списки в данные в формате JSON.\n",
        "Оформи ответ на вопрос в соответствии с примером.\n",
        "\n",
        "ПРИМЕР ВОПРОСА:\n",
        "* Азот - N - не менее 99,999%\n",
        "* Кислород - O - не более 0,0005%\n",
        "* Водород - H - не более 0,0002%\n",
        "\n",
        "ПРИМЕР ОТВЕТА: {\"components\":[{\"name\":\"Азот\",\"letter\":\"N\",\"value\":\"99.999\",\"operation\":\"не менее\"},{\"name\":\"Кислород\",\"letter\":\"O\",\"value\":\"0.0005\",\"operation\":\"не более\"},{\"name\":\"Водород\",\"letter\":\"H\",\"value\":\"0.0002\",\"operation\":\"не более\"}]}\n",
        "\n",
        "ВОПРОС:\n",
        "\"\"\"\n",
        "    prompt = template + composition_list + \"\\n\\nОТВЕТ: \"\n",
        "    #При слишком большом окне модель начинает выводить ответ несколько раз подряд.\n",
        "    response = gemma_lm.generate(prompt, max_length=500)\n",
        "\n",
        "    #Магическая последовательность из символов в ответе.\n",
        "    index = response.find(\"ОТВЕТ: \\n \\n \")\n",
        "    index2 = None\n",
        "    if index == -1 or index + 11 > len(response) - 1:\n",
        "        print(\"    ОШИБКА: Gemma не дала ответ. Возможная причина: слишком мало токенов.\")\n",
        "        return None\n",
        "    else:\n",
        "        index += 11\n",
        "        if response[index] != '{':\n",
        "            print(\"    ОШИБКА: Gemma не сгенерировала корректную запись в формате JSON.\")\n",
        "            return None\n",
        "\n",
        "        #Поиск конца записи в формате JSON и проверка скобок с помощью стека.\n",
        "        stack = []\n",
        "        for i in range(index, len(response)):\n",
        "            if response[i] == '{':\n",
        "                stack.append('{')\n",
        "            elif response[i] == '}':\n",
        "                if len(stack) == 0 or stack[-1] != '{':\n",
        "                    break\n",
        "                else:\n",
        "                    stack.pop(-1)\n",
        "            elif response[i] == '[':\n",
        "                stack.append('[')\n",
        "            elif response[i] == ']':\n",
        "                if len(stack) == 0 or stack[-1] != '[':\n",
        "                    break\n",
        "                else:\n",
        "                    stack.pop(-1)\n",
        "\n",
        "            if len(stack) == 0:\n",
        "                index2 = i\n",
        "                break\n",
        "\n",
        "        if index2 == None:\n",
        "            print(\"    ОШИБКА: Gemma не сгенерировала корректную запись в формате JSON.\")\n",
        "            return None\n",
        "\n",
        "    print(\"        Завершено.\")\n",
        "\n",
        "    return response[index:index2 + 1]\n",
        "\n",
        "extracted_compositions = []\n",
        "#файл 24 - хороший пример\n",
        "for i in range(25,26):\n",
        "    print(\"Извлечение состава из файла \" + str(i) + \"/\" + str(len(dataset)) + \"...\")\n",
        "    extracted_composition = extract_gas_composition(gemma_lm, dataset[i])\n",
        "    if extracted_composition == None:\n",
        "        print(\"Завершено с ошибкой.\")\n",
        "    else:\n",
        "        print(\"Завершено.\")\n",
        "        extracted_compositions.append(extracted_composition)\n",
        "\n",
        "print(extracted_compositions)"
      ]
    },
    {
      "cell_type": "markdown",
      "metadata": {
        "id": "N5fHy4qVvwoO"
      },
      "source": [
        "## Парсинг результатов, создание базы и её сохранение в JSON файл"
      ]
    },
    {
      "cell_type": "code",
      "execution_count": null,
      "metadata": {
        "colab": {
          "base_uri": "https://localhost:8080/"
        },
        "id": "FiPsolc5u-RI",
        "outputId": "81c51f28-cb09-4aa1-8a59-88f3d90ad7b0"
      },
      "outputs": [],
      "source": [
        "import json\n",
        "from copy import deepcopy\n",
        "\n",
        "#Для теста.\n",
        "extracted_compositions = [\"\"\"{\"components\":[{\"name\":\"Азот\",\"letter\":\"N\",\"value\":\"99.999\",\"operation\":\"не менее\"},{\"name\":\"Кислород\",\"letter\":\"O\",\"value\":\"0.0005\",\"operation\":\"не более\"},{\"name\":\"Водород\",\"letter\":\"H\",\"value\":\"0.0002\",\"operation\":\"не более\"}]}\"\"\"]\n",
        "extracted_info = [json.loads(i) for i in extracted_compositions]\n",
        "\n",
        "root_node = {\n",
        "    \"title\" : \"База технологических газов\",\n",
        "    \"code\" : \" \", #Должен игнорироваться при импорте.\n",
        "    \"path\" : \"lychev.ms@dvfu.ru / Мой Фонд / Загрузки / База технологических газов$;\",\n",
        "    \"date\" : \" \", #Должен игнорироваться при импорте.\n",
        "    \"creation\" : \" \", #Должен игнорироваться при импорте.\n",
        "    \"owner_id\" : 0, #Должен игнорироваться при импорте.\n",
        "    \"json_type\" : \"universal\",\n",
        "    \"ontology\" : \"lychev.ms@dvfu.ru / Мой Фонд / Загрузки / Онтология базы технологических газов$;\",\n",
        "    \"id\" : 17940078395396, #Должен игнорироваться при импорте.\n",
        "    \"name\" : \"База технологических газов\",\n",
        "    \"type\" : \"КОРЕНЬ\",\n",
        "    \"meta\" : \"Онтология базы технологических газов\",\n",
        "    \"successors\" : [\n",
        "        {\n",
        "            \"name\" : \"Моногазы\",\n",
        "            \"type\" : \"НЕТЕРМИНАЛ\",\n",
        "            \"meta\" : \"Моногазы\",\n",
        "            \"successors\" : []\n",
        "        },\n",
        "        {\n",
        "            \"name\" : \"Многокомпонентные газовые смеси\",\n",
        "            \"type\" : \"НЕТЕРМИНАЛ\",\n",
        "            \"meta\" : \"Многокомпонентные газовые смеси\",\n",
        "            \"successors\" : []\n",
        "        }\n",
        "    ]\n",
        "}\n",
        "\n",
        "component_chemical_formula_node_template = {\n",
        "    \"name\":0,\n",
        "    \"type\":\"НЕТЕРМИНАЛ\",\n",
        "    \"meta\":\"Химическое обозначение\",\n",
        "    \"original\" : \"lychev.ms@dvfu.ru / Мой Фонд / Загрузки / База химических элементов$/Гелий/{:s};\",\n",
        "    \"successors\" : []\n",
        "}\n",
        "terminal_node_template =  {\n",
        "    \"value\" : \"\",\n",
        "    \"type\" : \"ТЕРМИНАЛ-ЗНАЧЕНИЕ\",\n",
        "    \"valtype\" : \"\",\n",
        "    \"meta\" : \"\"\n",
        "}\n",
        "non_terminal_node_template = {\n",
        "    \"name\" : \"\",\n",
        "    \"type\" : \"НЕТЕРМИНАЛ\",\n",
        "    \"meta\" : \"\",\n",
        "    \"successors\" : []\n",
        "}\n",
        "\n",
        "for i in extracted_info:\n",
        "    for j in range(len(i[\"components\"])):\n",
        "        component_node = deepcopy(non_terminal_node_template)\n",
        "        component_node[\"name\"] = j\n",
        "        component_node[\"meta\"] = \"Компонент\"\n",
        "\n",
        "        chemical_formula_node = deepcopy(component_chemical_formula_node_template)\n",
        "        chemical_formula_node[\"name\"] = i[\"components\"][j][\"letter\"]\n",
        "        chemical_formula_node[\"original\"] = chemical_formula_node[\"original\"].format(i[\"components\"][j][\"letter\"])\n",
        "\n",
        "        percent_node = deepcopy(terminal_node_template)\n",
        "        percent_node[\"value\"] = \"%\"\n",
        "        percent_node[\"valtype\"] = \"STRING\"\n",
        "        percent_node[\"meta\"] = \"%\"\n",
        "\n",
        "        operation_node = deepcopy(non_terminal_node_template)\n",
        "        operation_sign_node = deepcopy(terminal_node_template)\n",
        "        if i[\"components\"][j][\"operation\"] == \"не менее\":\n",
        "            operation_node[\"name\"] = \"Не менее\"\n",
        "            operation_node[\"meta\"] = \"Не менее\"\n",
        "\n",
        "            operation_sign_node[\"value\"] = \"≥\"\n",
        "            operation_sign_node[\"valtype\"] = \"STRING\"\n",
        "            operation_sign_node[\"meta\"] = \"≥\"\n",
        "        else:\n",
        "            operation_node[\"name\"] = \"Не более\"\n",
        "            operation_node[\"meta\"] = \"Не более\"\n",
        "\n",
        "            operation_sign_node[\"value\"] = \"≤\"\n",
        "            operation_sign_node[\"valtype\"] = \"STRING\"\n",
        "            operation_sign_node[\"meta\"] = \"≤\"\n",
        "\n",
        "        value_node = deepcopy(terminal_node_template)\n",
        "        value_node[\"value\"] = float(i[\"components\"][j][\"value\"])\n",
        "        value_node[\"valtype\"] = \"REAL\"\n",
        "        value_node[\"meta\"] = \"Числовое значение\"\n",
        "\n",
        "        #Стыковка отношений.\n",
        "        operation_node[\"successors\"].append(operation_sign_node)\n",
        "        operation_node[\"successors\"].append(value_node)\n",
        "        chemical_formula_node[\"successors\"].append(percent_node)\n",
        "        chemical_formula_node[\"successors\"].append(operation_node)\n",
        "        component_node[\"successors\"].append(chemical_formula_node)\n",
        "        root_node[\"successors\"].append(component_node)\n",
        "\n",
        "print(json.dumps(root_node, indent=4))"
      ]
    },
    {
      "cell_type": "markdown",
      "metadata": {
        "id": "zEaVQWCHB11j"
      },
      "source": [
        "# Установка Gemma.cpp (веса с Kaggle, остальное с Github)"
      ]
    },
    {
      "cell_type": "code",
      "execution_count": null,
      "metadata": {
        "id": "o-2OfcqcUGDr"
      },
      "outputs": [],
      "source": [
        "!git clone https://github.com/google/gemma.cpp"
      ]
    },
    {
      "cell_type": "code",
      "execution_count": null,
      "metadata": {
        "id": "4bNbTjC3UWRj"
      },
      "outputs": [],
      "source": [
        "%cd /content/gemma.cpp/\n",
        "!cmake -B build/\n",
        "%cd build\n",
        "!cmake --preset make\n",
        "!cmake --build --preset make -j 2"
      ]
    },
    {
      "cell_type": "code",
      "execution_count": null,
      "metadata": {
        "id": "jdm9Kcl1YsR8"
      },
      "outputs": [],
      "source": [
        "import kagglehub\n",
        "\n",
        "# path = kagglehub.model_download(\"google/gemma/gemmaCpp/2b-it-sfp\")\n",
        "# print(\"Path to model files:\", path)\n",
        "\n",
        "path = kagglehub.model_download(\"google/gemma/gemmaCpp/7b-it-sfp\")\n",
        "print(\"Path to model files:\", path)"
      ]
    },
    {
      "cell_type": "code",
      "execution_count": null,
      "metadata": {
        "id": "W4Xn4VlUbDkt"
      },
      "outputs": [],
      "source": [
        "#%cd /root/.cache/kagglehub/models/google/gemma/gemmaCpp/2b-it-sfp/4\n",
        "#!mv 2b-it-sfp.sbs /content/2b-it-sfp.sbs\n",
        "#!mv tokenizer.spm /content/tokenizer.spm\n",
        "\n",
        "%cd /root/.cache/kagglehub/models/google/gemma/gemmaCpp/7b-it-sfp/3\n",
        "!mkdir /content/gemmacpp_7b_it_sfp\n",
        "!mv 7b-it-sfp.sbs /content/gemmacpp_7b_it_sfp/7b-it-sfp.sbs\n",
        "!mv tokenizer.spm /content/gemmacpp_7b_it_sfp/tokenizer.spm\n",
        "\n",
        "\n",
        "\n",
        "%cd /content/gemma.cpp/build/"
      ]
    },
    {
      "cell_type": "code",
      "execution_count": null,
      "metadata": {
        "id": "0c5OUzhqbvnh"
      },
      "outputs": [],
      "source": [
        "!./gemma --tokenizer /content/tokenizer.spm --weights /content/2b-it-sfp.sbs --weight_type sfp --model 2b-it\n",
        "\n",
        "#!./gemma --tokenizer /content/gemmacpp_7b_it_sfp/tokenizer.spm --weights /content/gemmacpp_7b_it_sfp/7b-it-sfp.sbs --weight_type sfp --model 7b-it"
      ]
    }
  ],
  "metadata": {
    "colab": {
      "provenance": []
    },
    "kernelspec": {
      "display_name": "Python 3",
      "name": "python3"
    },
    "language_info": {
      "name": "python"
    }
  },
  "nbformat": 4,
  "nbformat_minor": 0
}
