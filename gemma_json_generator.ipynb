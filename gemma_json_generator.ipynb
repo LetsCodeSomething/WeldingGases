{
  "nbformat": 4,
  "nbformat_minor": 0,
  "metadata": {
    "colab": {
      "provenance": []
    },
    "kernelspec": {
      "name": "python3",
      "display_name": "Python 3"
    },
    "language_info": {
      "name": "python"
    }
  },
  "cells": [
    {
      "cell_type": "markdown",
      "source": [
        "# Извлечение данных с помощью Gemma 1 2b"
      ],
      "metadata": {
        "id": "gFyxPmeYwZ3g"
      }
    },
    {
      "cell_type": "markdown",
      "source": [
        "## Загрузка и установка Gemma из Kaggle"
      ],
      "metadata": {
        "id": "3kZOQgNhUIxt"
      }
    },
    {
      "cell_type": "code",
      "source": [
        "!pip install -q -U tf-keras\n",
        "!pip install -q -U keras-nlp==0.10.0\n",
        "!pip install -q -U kagglehub>=0.2.4\n",
        "!pip install -q -U keras>=3"
      ],
      "metadata": {
        "id": "nNrIVl8gUMcV"
      },
      "execution_count": null,
      "outputs": []
    },
    {
      "cell_type": "code",
      "source": [
        "import os\n",
        "from google.colab import userdata\n",
        "\n",
        "os.environ[\"KAGGLE_USERNAME\"] = userdata.get('KAGGLE_USERNAME')\n",
        "os.environ[\"KAGGLE_KEY\"] = userdata.get('KAGGLE_KEY')\n",
        "\n",
        "os.environ[\"KERAS_BACKEND\"] = \"jax\"\n",
        "#Avoid memory fragmentation on JAX backend.\n",
        "os.environ[\"XLA_PYTHON_CLIENT_MEM_FRACTION\"]=\"1.00\""
      ],
      "metadata": {
        "id": "_CgxAJC_UN97"
      },
      "execution_count": 2,
      "outputs": []
    },
    {
      "cell_type": "code",
      "source": [
        "import keras_nlp\n",
        "import keras\n",
        "import csv\n",
        "\n",
        "print(\"KerasNLP version: \", keras_nlp.__version__)\n",
        "print(\"Keras version: \", keras.__version__)"
      ],
      "metadata": {
        "id": "mVcu5EvcUWXF",
        "colab": {
          "base_uri": "https://localhost:8080/"
        },
        "outputId": "2b798e37-580a-4bae-d4ff-072aef5dd414"
      },
      "execution_count": 3,
      "outputs": [
        {
          "output_type": "stream",
          "name": "stdout",
          "text": [
            "KerasNLP version:  0.10.0\n",
            "Keras version:  3.9.2\n"
          ]
        }
      ]
    },
    {
      "cell_type": "code",
      "source": [
        "gemma_lm = keras_nlp.models.GemmaCausalLM.from_preset(\"gemma_2b_en\")"
      ],
      "metadata": {
        "id": "W0SigPZ4UbFi"
      },
      "execution_count": null,
      "outputs": []
    },
    {
      "cell_type": "markdown",
      "source": [
        "## Подготовка датасета"
      ],
      "metadata": {
        "id": "3mVYXet1wSJV"
      }
    },
    {
      "cell_type": "code",
      "source": [
        "!mkdir \"dataset\"\n",
        "!mv niikm_data.zip dataset\n",
        "%cd dataset\n",
        "!unzip niikm_data.zip\n",
        "!rm niikm_data.zip\n",
        "%cd .."
      ],
      "metadata": {
        "id": "LADUX8i8wP2K"
      },
      "execution_count": null,
      "outputs": []
    },
    {
      "cell_type": "code",
      "source": [
        "DATASET_FOLDER = \"dataset/\"\n",
        "dataset_file_names = os.listdir(DATASET_FOLDER)\n",
        "\n",
        "dataset = []\n",
        "loaded_file_count = 0\n",
        "ignored_file_count = 0\n",
        "\n",
        "print(\"Загрузка датасета...\")\n",
        "for i in dataset_file_names:\n",
        "    f = open(DATASET_FOLDER + i, 'r', encoding=\"utf-8\")\n",
        "\n",
        "    #Файлы, не содержащие информацию о ГОСТ или другом нормативном документе, игнорируются.\n",
        "    buffer = f.readlines()\n",
        "    ignore = True\n",
        "    for j in buffer:\n",
        "        if j.find(\"ГОСТ\") != -1:\n",
        "            ignore = False\n",
        "            break\n",
        "    if ignore:\n",
        "        print(\"    INFO: Файл \\\"\" + i + \"\\\" не содержит информацию о ГОСТ. Файл пропущен.\")\n",
        "        ignored_file_count += 1\n",
        "    else:\n",
        "        loaded_file_count += 1\n",
        "        buffer2 = \"\"\n",
        "        for j in buffer:\n",
        "            buffer2 += j\n",
        "        dataset.append(buffer2)\n",
        "\n",
        "    f.close()\n",
        "\n",
        "print(\"Готово (\" + str(len(dataset_file_names)) + \" всего, \" + str(loaded_file_count) + \" загружено, \" + str(ignored_file_count) + \" пропущено).\")"
      ],
      "metadata": {
        "id": "e1UQG-H5yWeX"
      },
      "execution_count": null,
      "outputs": []
    },
    {
      "cell_type": "markdown",
      "source": [
        "## Генерация данных"
      ],
      "metadata": {
        "id": "blBCS8yrwhUj"
      }
    },
    {
      "cell_type": "code",
      "source": [
        "template = \"\"\"Ты - ИИ-помощник, созданный для поиска информации о свойствах газа в тексте и её преобразовании в формат JSON.\n",
        "Оформи ответ на вопрос в соответствии с примером. В ответе должно быть:\n",
        "- название основного газа в составе;\n",
        "- название газа;\n",
        "- химическую формулу газа;\n",
        "- ГОСТ, задающий требования к качеству газа.\n",
        "\n",
        "ПРИМЕР ВОПРОСА:\n",
        "НАЗВАНИЕ: Азот жидкий особой чистоты 1 сорт\n",
        "ГОСТ / НОРМАТИВНЫЙ ДОКУМЕНТ: ГОСТ 9293 - 74\n",
        "ТРЕБОВАНИЯ К ПРОДУКТУ ПО ГОСТ:\n",
        "        Наименование показателя                Норма по ГОСТ\n",
        "        Объёмная доля азота, % не менее                99,999\n",
        "        Объёмная доля кислорода, % не более                0,0005\n",
        "        Содержание масла, механических примесей и влаги                выдерживает испытание\n",
        "        Объёмная доля водорода, % не более                0,0002\n",
        "        Объёмная доля суммы углеродсодержащих соединений в пересчете на СН4, % не более                0,0003\n",
        "ОСНОВНЫЕ СВОЙСТВА:\n",
        "Латинское название:  Nitrogenium\n",
        "CAS номер: 7727-37-9\n",
        "UN газа: 1066\n",
        "UN жидкости: 1977\n",
        "Код ООН: 1006\n",
        "Физико-химические свойства:\n",
        "Электронная конфигурация: 2s22p3\n",
        "Молекулярая масса: 28.0134\n",
        "Степень окисления: от +5 до -3\n",
        "Плотность: 1,251\n",
        "Удельная теплоёмкость: 1,034\n",
        "Теплопроводность: 0,026\n",
        "t кипения: -195,8 °C\n",
        "t плавления: -210 °C\n",
        "Внешние признаки: Без цвета вкуса и запаха, химически весьма инертен\n",
        "\n",
        "ПРИМЕР ОТВЕТА: {\"based_on\":\"на основе Азота\",\"gas_name\":\"Азот жидкий особой чистоты 1 сорт\",\"gas_letter\":\"Ar\",\"state_standard\":\"ГОСТ 9293 - 74\"}.\"\"\"\n",
        "\n",
        "prompt = template + \"\\n\\nВОПРОС: \" + dataset[0] + \"\\nОТВЕТ:\"\n",
        "\n",
        "generated = gemma_lm.generate(prompt, max_length=1100)\n",
        "print(generated)"
      ],
      "metadata": {
        "colab": {
          "base_uri": "https://localhost:8080/"
        },
        "id": "TDErw95AU3K2",
        "outputId": "620cb734-fe6f-43ab-e2bf-01c05b8c69af"
      },
      "execution_count": 12,
      "outputs": [
        {
          "output_type": "stream",
          "name": "stdout",
          "text": [
            "Ты - ИИ-помощник, созданный для поиска информации о свойствах газа в тексте и её преобразовании в формат JSON.\n",
            "Оформи ответ на вопрос в соответствии с примером. В ответе должно быть:\n",
            "- название основного газа в составе;\n",
            "- название газа;\n",
            "- химическую формулу газа;\n",
            "- ГОСТ, задающий требования к качеству газа.\n",
            "\n",
            "ПРИМЕР ВОПРОСА:\n",
            "НАЗВАНИЕ: Азот жидкий особой чистоты 1 сорт\n",
            "ГОСТ / НОРМАТИВНЫЙ ДОКУМЕНТ: ГОСТ 9293 - 74\n",
            "ТРЕБОВАНИЯ К ПРОДУКТУ ПО ГОСТ:\n",
            "        Наименование показателя                Норма по ГОСТ\n",
            "        Объёмная доля азота, % не менее                99,999\n",
            "        Объёмная доля кислорода, % не более                0,0005\n",
            "        Содержание масла, механических примесей и влаги                выдерживает испытание\n",
            "        Объёмная доля водорода, % не более                0,0002\n",
            "        Объёмная доля суммы углеродсодержащих соединений в пересчете на СН4, % не более                0,0003\n",
            "ОСНОВНЫЕ СВОЙСТВА:\n",
            "Латинское название:  Nitrogenium\n",
            "CAS номер: 7727-37-9\n",
            "UN газа: 1066\n",
            "UN жидкости: 1977\n",
            "Код ООН: 1006\n",
            "Физико-химические свойства:\n",
            "Электронная конфигурация: 2s22p3\n",
            "Молекулярая масса: 28.0134\n",
            "Степень окисления: от +5 до -3\n",
            "Плотность: 1,251\n",
            "Удельная теплоёмкость: 1,034\n",
            "Теплопроводность: 0,026\n",
            "t кипения: -195,8 °C\n",
            "t плавления: -210 °C\n",
            "Внешние признаки: Без цвета вкуса и запаха, химически весьма инертен\n",
            "\n",
            "ПРИМЕР ОТВЕТА: {\"based_on\":\"на основе Азота\",\"gas_name\":\"Азот жидкий особой чистоты 1 сорт\",\"gas_letter\":\"Ar\",\"state_standard\":\"ГОСТ 9293 - 74\"}.\n",
            "\n",
            "ВОПРОС: НАЗВАНИЕ: Водород газообразный особо чистый марки В\n",
            "ГОСТ / НОРМАТИВНЫЙ ДОКУМЕНТ: ТУ 2114-016-78538315-2008\n",
            "ТРЕБОВАНИЯ К ПРОДУКТУ ПО ГОСТ:\n",
            "        Наименование показателя                Норма по ТУ                \n",
            "        Объёмная доля водорода в пересчёте на сухой газ, %, не менее                99,999                \n",
            "        Объёмная доля кислорода млн-1, (ppmv) не более                2                \n",
            "        Объёмная доля азота млн-1, (ppmv) не более                8                \n",
            "        Объёмная доля влаги млн-1, не более (точка росы при 101,3 кПа, °С, не выше):                                \n",
            "        а) в баллонах под давлением                10 (минус 60)                \n",
            "        б) в трубопроводе                0,5 (минус 80)                \n",
            "ОСНОВНЫЕ СВОЙСТВА:\n",
            "Латинское название: Hydrogenium\n",
            "CAS номер: 1333-74-0 \n",
            "UN газа: 1049 \n",
            "UN жидкости: 1966\n",
            "Код ООН: 1048\n",
            "Класс опасного груза: 2,3\n",
            "Физико-химические свойства:\n",
            "Электронная конфигурация: 1s1\n",
            "Молекулярая масса: 2.016 \n",
            "Степень окисления: от +1 до -1\n",
            "Плотность: 0,0898\n",
            "Удельная теплоёмкость: 1.384259\n",
            "Теплопроводность: 168.35\n",
            "t кипения: -252,8\n",
            "t плавления: -259,1\n",
            "Внешние признаки: газ без цвета вкуса  и запаха\n",
            "\n",
            "ОТВЕТ: {\"based_on\":\"на основе водорода\",\"gas_name\":\"Водород газообразный особо чистый марки В\",\"gas_letter\":\"H\",\"state_standard\":\"ТУ 2114-016-78538315-2008\"}.\n"
          ]
        }
      ]
    },
    {
      "cell_type": "code",
      "source": [
        "first_position = generated.find(\"{\", generated.find(\"{\") + 1)\n",
        "last_position = generated.rfind(\"}\")\n",
        "\n",
        "print(generated[first_position:last_position + 1])"
      ],
      "metadata": {
        "colab": {
          "base_uri": "https://localhost:8080/"
        },
        "id": "4GqYS2nxhE4x",
        "outputId": "d7317e0a-1177-4630-a3d5-51eb3c3e9afe"
      },
      "execution_count": 13,
      "outputs": [
        {
          "output_type": "stream",
          "name": "stdout",
          "text": [
            "{\"based_on\":\"на основе водорода\",\"gas_name\":\"Водород газообразный особо чистый марки В\",\"gas_letter\":\"H\",\"state_standard\":\"ТУ 2114-016-78538315-2008\"}\n"
          ]
        }
      ]
    },
    {
      "cell_type": "code",
      "source": [
        "#Ты - ИИ-помощник, созданный для поиска информации о составе газа в тексте.\n",
        "#Извлеки данные о составе газа из таблицы требований к продукту по ГОСТ.\n",
        "#Представь извлечённые данные об объёмных долях в виде списка.\n",
        "\n",
        "#You are an AI assistant designed to search for the gas composition in the text.\n",
        "#Extract the info on the gas composition from the text and format it as a list. Each\n",
        "#item must contain the name of the component, the chemical formula of the component and the percentage share of the component.\n",
        "\n",
        "template = \"\"\"Ты - ИИ-помощник, созданный для поиска информации о составе газа в тексте.\n",
        "Оформи ответ на вопрос в соответствии с примером. Каждый пункт ответа должен включать:\n",
        "- название компонента газа из вопроса;\n",
        "- химическую формулу компонента газа из вопроса;\n",
        "- объёмную долю компонента газа из вопроса.\n",
        "\n",
        "ПРИМЕР ВОПРОСА:\n",
        "НАЗВАНИЕ: Азот жидкий особой чистоты 1 сорт\n",
        "ГОСТ / НОРМАТИВНЫЙ ДОКУМЕНТ: ГОСТ 9293 - 74\n",
        "ТРЕБОВАНИЯ К ПРОДУКТУ ПО ГОСТ:\n",
        "        Наименование показателя                Норма по ГОСТ\n",
        "        Объёмная доля азота, % не менее                99,999\n",
        "        Объёмная доля кислорода, % не более                0,0005\n",
        "        Содержание масла, механических примесей и влаги                выдерживает испытание\n",
        "        Объёмная доля водорода, % не более                0,0002\n",
        "        Объёмная доля суммы углеродсодержащих соединений в пересчете на СН4, % не более                0,0003\n",
        "ОСНОВНЫЕ СВОЙСТВА:\n",
        "Латинское название:  Nitrogenium\n",
        "CAS номер: 7727-37-9\n",
        "UN газа: 1066\n",
        "UN жидкости: 1977\n",
        "Код ООН: 1006\n",
        "Физико-химические свойства:\n",
        "Электронная конфигурация: 2s22p3\n",
        "Молекулярая масса: 28.0134\n",
        "Степень окисления: от +5 до -3\n",
        "Плотность: 1,251\n",
        "Удельная теплоёмкость: 1,034\n",
        "Теплопроводность: 0,026\n",
        "t кипения: -195,8 °C\n",
        "t плавления: -210 °C\n",
        "Внешние признаки: Без цвета вкуса и запаха, химически весьма инертен\n",
        "\n",
        "ПРИМЕР ОТВЕТА:\n",
        "* Азот - N - не менее 99.999%\n",
        "* Кислород - O - не более 0.0005%\n",
        "* Водород - H - не более 0.0002%\"\"\"\n",
        "\n",
        "prompt = template + \"\\n\\nВОПРОС: \\n\" + dataset[19] + \"\\nОТВЕТ: \"\n",
        "\n",
        "#Периодически gemma начинает галлюцинировать. При некоторых вводах она упорно лепит\n",
        "#в ответе информацию про оксид азота, даже если в тексте о нём нет ни слова.\n",
        "#Проблемы также вызывает непоследовательность в формате таблиц.\n",
        "generated = gemma_lm.generate(prompt, max_length=1090)\n",
        "print(generated)"
      ],
      "metadata": {
        "colab": {
          "base_uri": "https://localhost:8080/"
        },
        "id": "u9zKdD8r_Nr3",
        "outputId": "6a3dc8bd-d755-4a32-a94b-a6cd773a94c8"
      },
      "execution_count": 16,
      "outputs": [
        {
          "output_type": "stream",
          "name": "stdout",
          "text": [
            "Ты - ИИ-помощник, созданный для поиска информации о составе газа в тексте.\n",
            "Оформи ответ на вопрос в соответствии с примером. Каждый пункт ответа должен включать:\n",
            "- название компонента газа;\n",
            "- химическую формулу компонента газа;\n",
            "- объёмную долю компонента газа.\n",
            "\n",
            "ПРИМЕР ВОПРОСА:\n",
            "НАЗВАНИЕ: Азот жидкий особой чистоты 1 сорт\n",
            "ГОСТ / НОРМАТИВНЫЙ ДОКУМЕНТ: ГОСТ 9293 - 74\n",
            "ТРЕБОВАНИЯ К ПРОДУКТУ ПО ГОСТ:\n",
            "        Наименование показателя                Норма по ГОСТ\n",
            "        Объёмная доля азота, % не менее                99,999\n",
            "        Объёмная доля кислорода, % не более                0,0005\n",
            "        Содержание масла, механических примесей и влаги                выдерживает испытание\n",
            "        Объёмная доля водорода, % не более                0,0002\n",
            "        Объёмная доля суммы углеродсодержащих соединений в пересчете на СН4, % не более                0,0003\n",
            "ОСНОВНЫЕ СВОЙСТВА:\n",
            "Латинское название:  Nitrogenium\n",
            "CAS номер: 7727-37-9\n",
            "UN газа: 1066\n",
            "UN жидкости: 1977\n",
            "Код ООН: 1006\n",
            "Физико-химические свойства:\n",
            "Электронная конфигурация: 2s22p3\n",
            "Молекулярая масса: 28.0134\n",
            "Степень окисления: от +5 до -3\n",
            "Плотность: 1,251\n",
            "Удельная теплоёмкость: 1,034\n",
            "Теплопроводность: 0,026\n",
            "t кипения: -195,8 °C\n",
            "t плавления: -210 °C\n",
            "Внешние признаки: Без цвета вкуса и запаха, химически весьма инертен\n",
            "\n",
            "ПРИМЕР ОТВЕТА:\n",
            "* Азот - N - не менее 99.999%\n",
            "* Кислород - O - не более 0.0005%\n",
            "* Водород - H - не более 0.0002%\n",
            "\n",
            "ВОПРОС: \n",
            "НАЗВАНИЕ: Кислород газообразный технический 1 сорт (пищевая добавка Е948)\n",
            "ГОСТ / НОРМАТИВНЫЙ ДОКУМЕНТ: ТУ 2114-010-45905715-2011\n",
            "ТРЕБОВАНИЯ К ПРОДУКТУ ПО ГОСТ:\n",
            "        Наименование показателя                Норма по ТУ                \n",
            "        Объёмная доля кислорода, % не менее                99,7                        \n",
            "        Объёмная доля водяного пара, % не более                0,007                        \n",
            "        Объёмная доля водорода, % не более                0,3                        \n",
            "        Содержание щелочи                выдерживает испытание                \n",
            "\n",
            "ОСНОВНЫЕ СВОЙСТВА:\n",
            "Латинское название: Oxygen\n",
            "CAS номер: 7782-44-7 \n",
            "UN газа: 1072\n",
            "UN жидкости: 1973 \n",
            "Код ООН: 1072\n",
            "Класс опасного груза: 2\n",
            "Код экстренных мер: 234\n",
            "Физико-химические свойства:\n",
            "Электронная конфигурация: 2s22p4\n",
            "Молекулярая масса: 31.9988\n",
            "Степень окисления: от +4 до -4\n",
            "Плотность: 1,42895\n",
            "Удельная теплоёмкость: 1.393365\n",
            "Теплопроводность: 24.24\n",
            "t кипения: -183 °C\n",
            "t плавления: -218,8 °C\n",
            "Внешние признаки: газ без цвета, вкуса и запаха\n",
            "\n",
            "ОТВЕТ: \n",
            "* Кислород - O - не менее 99,7%\n",
            "* Водород - H - не более 0,3%\n",
            "* Вода - H2O - не более 0,007%\n"
          ]
        }
      ]
    },
    {
      "cell_type": "markdown",
      "source": [
        "# Установка Gemma.cpp (веса с Kaggle, остальное с Github)"
      ],
      "metadata": {
        "id": "zEaVQWCHB11j"
      }
    },
    {
      "cell_type": "code",
      "source": [
        "!git clone https://github.com/google/gemma.cpp"
      ],
      "metadata": {
        "id": "o-2OfcqcUGDr"
      },
      "execution_count": null,
      "outputs": []
    },
    {
      "cell_type": "code",
      "source": [
        "%cd /content/gemma.cpp/\n",
        "!cmake -B build/\n",
        "%cd build\n",
        "!cmake --preset make\n",
        "!cmake --build --preset make -j 2"
      ],
      "metadata": {
        "id": "4bNbTjC3UWRj"
      },
      "execution_count": null,
      "outputs": []
    },
    {
      "cell_type": "code",
      "source": [
        "import kagglehub\n",
        "\n",
        "# path = kagglehub.model_download(\"google/gemma/gemmaCpp/2b-it-sfp\")\n",
        "# print(\"Path to model files:\", path)\n",
        "\n",
        "path = kagglehub.model_download(\"google/gemma/gemmaCpp/7b-it-sfp\")\n",
        "print(\"Path to model files:\", path)"
      ],
      "metadata": {
        "id": "jdm9Kcl1YsR8"
      },
      "execution_count": null,
      "outputs": []
    },
    {
      "cell_type": "code",
      "source": [
        "#%cd /root/.cache/kagglehub/models/google/gemma/gemmaCpp/2b-it-sfp/4\n",
        "#!mv 2b-it-sfp.sbs /content/2b-it-sfp.sbs\n",
        "#!mv tokenizer.spm /content/tokenizer.spm\n",
        "\n",
        "%cd /root/.cache/kagglehub/models/google/gemma/gemmaCpp/7b-it-sfp/3\n",
        "!mkdir /content/gemmacpp_7b_it_sfp\n",
        "!mv 7b-it-sfp.sbs /content/gemmacpp_7b_it_sfp/7b-it-sfp.sbs\n",
        "!mv tokenizer.spm /content/gemmacpp_7b_it_sfp/tokenizer.spm\n",
        "\n",
        "\n",
        "\n",
        "%cd /content/gemma.cpp/build/"
      ],
      "metadata": {
        "id": "W4Xn4VlUbDkt"
      },
      "execution_count": null,
      "outputs": []
    },
    {
      "cell_type": "code",
      "source": [
        "!./gemma --tokenizer /content/tokenizer.spm --weights /content/2b-it-sfp.sbs --weight_type sfp --model 2b-it\n",
        "\n",
        "#!./gemma --tokenizer /content/gemmacpp_7b_it_sfp/tokenizer.spm --weights /content/gemmacpp_7b_it_sfp/7b-it-sfp.sbs --weight_type sfp --model 7b-it"
      ],
      "metadata": {
        "id": "0c5OUzhqbvnh"
      },
      "execution_count": null,
      "outputs": []
    }
  ]
}