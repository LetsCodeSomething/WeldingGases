{
  "cells": [
    {
      "cell_type": "markdown",
      "metadata": {
        "id": "8PmZRb3uaxuh"
      },
      "source": [
        "# Извлечение данных с помощью Alibaba Qwen3 0.6b"
      ]
    },
    {
      "cell_type": "markdown",
      "metadata": {
        "id": "4JFe3LZhpybQ"
      },
      "source": [
        "## Загрузка библиотек"
      ]
    },
    {
      "cell_type": "code",
      "execution_count": null,
      "metadata": {
        "id": "TjpJHnM7k4Rp"
      },
      "outputs": [],
      "source": [
        "from transformers import AutoModelForCausalLM, AutoTokenizer\n",
        "import kagglehub\n",
        "import os\n",
        "from google.colab import userdata\n",
        "\n",
        "import json\n",
        "import zipfile"
      ]
    },
    {
      "cell_type": "markdown",
      "metadata": {
        "id": "QrqoflthbL5Y"
      },
      "source": [
        "## Извлечение данных из датасета с помощью Qwen3"
      ]
    },
    {
      "cell_type": "code",
      "execution_count": 46,
      "metadata": {
        "id": "GpVEuQ9Qbxrt"
      },
      "outputs": [],
      "source": [
        "def generate_response(qwen, prompt):\n",
        "    # prepare the model input\n",
        "    messages = [{\"role\": \"user\", \"content\": prompt}]\n",
        "    text = qwen[1].apply_chat_template(\n",
        "        messages,\n",
        "        tokenize=False,\n",
        "        add_generation_prompt=True,\n",
        "        enable_thinking=True # Switches between thinking and non-thinking modes. Default is True.\n",
        "    )\n",
        "    model_inputs = tokenizer([text], return_tensors=\"pt\").to(qwen[0].device)\n",
        "\n",
        "    # conduct text completion\n",
        "    generated_ids = qwen[0].generate(**model_inputs, max_new_tokens=32768)\n",
        "    output_ids = generated_ids[0][len(model_inputs.input_ids[0]):].tolist()\n",
        "\n",
        "    # parsing thinking content\n",
        "    try:\n",
        "        # rindex finding 151668 ()\n",
        "        index = len(output_ids) - output_ids[::-1].index(151668)\n",
        "    except ValueError:\n",
        "        index = 0\n",
        "\n",
        "    thinking_content = tokenizer.decode(output_ids[:index], skip_special_tokens=True).strip(\"\\n\")\n",
        "    content = tokenizer.decode(output_ids[index:], skip_special_tokens=True)\n",
        "    #print(thinking_content)\n",
        "    return content"
      ]
    },
    {
      "cell_type": "code",
      "execution_count": 51,
      "metadata": {
        "id": "7jKCJMcTbQbo"
      },
      "outputs": [],
      "source": [
        "def extract_gas_basic_info(qwen, sample):\n",
        "    template = \"\"\"Ты - ИИ-помощник, созданный для поиска информации о свойствах газа в тексте и её преобразовании в формат JSON.\n",
        "Оформи ответ на вопрос в соответствии с примером. В ответе должно быть:\n",
        "- название основного газа в составе;\n",
        "- полное название газа;\n",
        "- химическая формула газа;\n",
        "- ГОСТ, задающий требования к качеству газа.\n",
        "\n",
        "ПРИМЕР ВОПРОСА:\n",
        "НАЗВАНИЕ: Азот жидкий особой чистоты 1 сорт\n",
        "ГОСТ / НОРМАТИВНЫЙ ДОКУМЕНТ: ГОСТ 9293 - 74\n",
        "ТРЕБОВАНИЯ К ПРОДУКТУ ПО ГОСТ:\n",
        "        Наименование показателя                Норма по ГОСТ\n",
        "        Объёмная доля азота, % не менее                99,999\n",
        "        Объёмная доля кислорода, % не более                0,0005\n",
        "        Содержание масла, механических примесей и влаги                выдерживает испытание\n",
        "        Объёмная доля водорода, % не более                0,0002\n",
        "        Объёмная доля суммы углеродсодержащих соединений в пересчете на СН4, % не более                0,0003\n",
        "ОСНОВНЫЕ СВОЙСТВА:\n",
        "Латинское название:  Nitrogenium\n",
        "CAS номер: 7727-37-9\n",
        "UN газа: 1066\n",
        "UN жидкости: 1977\n",
        "Код ООН: 1006\n",
        "Физико-химические свойства:\n",
        "Электронная конфигурация: 2s22p3\n",
        "Молекулярая масса: 28.0134\n",
        "Степень окисления: от +5 до -3\n",
        "Плотность: 1,251\n",
        "Удельная теплоёмкость: 1,034\n",
        "Теплопроводность: 0,026\n",
        "t кипения: -195,8 °C\n",
        "t плавления: -210 °C\n",
        "Внешние признаки: Без цвета вкуса и запаха, химически весьма инертен\n",
        "\n",
        "ПРИМЕР ОТВЕТА: {\"based_on\":\"на основе Азота\",\"gas_name\":\"Азот жидкий особой чистоты 1 сорт\",\"formula\":\"N\",\"state_standard\":\"ГОСТ 9293 - 74\"}\n",
        "\"\"\"\n",
        "    print(\"        Извлечение основной информации о газе...\")\n",
        "\n",
        "    raw_response = generate_response(qwen, template + \"\\nВОПРОС:\\n\" + sample + \"\\nОТВЕТ:\")\n",
        "\n",
        "    first_position = raw_response.find(\"{\")\n",
        "    if first_position == -1:\n",
        "        print(\"        ОШИБКА: Qwen3 не дала ответ.\")\n",
        "        print(\"        Завершено с ошибкой.\")\n",
        "        return None\n",
        "\n",
        "    last_position = raw_response.find(\"}\", first_position)\n",
        "    if last_position == -1:\n",
        "        print(\"    ОШИБКА: Qwen3 не сгенерировала корректную запись в формате JSON.\")\n",
        "        print(\"        Завершено с ошибкой.\")\n",
        "        return None\n",
        "\n",
        "    try:\n",
        "        result_json = json.loads(raw_response[first_position:last_position + 1])\n",
        "        print(\"        Завершено.\")\n",
        "        return result_json\n",
        "    except:\n",
        "        print(\"        ОШИБКА: Не удалось преобразовать основную информацию о газе в JSON-структуру.\")\n",
        "        return None"
      ]
    },
    {
      "cell_type": "code",
      "execution_count": 42,
      "metadata": {
        "id": "Qhba86mgh1TP"
      },
      "outputs": [],
      "source": [
        "def extract_gas_mark(qwen, sample):\n",
        "    template = \"\"\"Извлеки марку из названия газа.\n",
        "Если марка отсутствует в названии, то вместо марки укажи \"Отсутствует\".\n",
        "Оформи ответ в соответствии с примерами.\n",
        "\n",
        "ПРИМЕР ВОПРОСА 1:\n",
        "Гелий газообразный высокой чистоты, марка 4.6\n",
        "\n",
        "ПРИМЕР ОТВЕТА 1:\n",
        "{\"mark\":\"4.6\"}\n",
        "\n",
        "ПРИМЕР ВОПРОСА 2:\n",
        "Гелий газообразный высокой чистоты\n",
        "\n",
        "ПРИМЕР ОТВЕТА 2:\n",
        "{\"mark\":\"Отсутствует\"}\n",
        "\n",
        "ВОПРОС:\n",
        "\"\"\"\n",
        "    print(\"        Извлечение марки газа...\")\n",
        "    raw_response = generate_response(qwen, template + sample + \"\\n\\nОТВЕТ:\\n\")\n",
        "\n",
        "    if raw_response.find(\"{\") == -1:\n",
        "        print(\"        ОШИБКА: Qwen3 не дала ответ.\")\n",
        "\n",
        "    try:\n",
        "        result_json = json.loads(raw_response)\n",
        "        print(\"        Завершено.\")\n",
        "        return result_json\n",
        "    except:\n",
        "        print(\"        ОШИБКА: Не удалось преобразовать полученную от Qwen3 информацию о марке газа в JSON-структуру.\")\n",
        "        return None"
      ]
    },
    {
      "cell_type": "code",
      "execution_count": null,
      "metadata": {
        "id": "eqJ3cU3kk8E9"
      },
      "outputs": [],
      "source": [
        "def extract_gas_composition(qwen, sample):\n",
        "    template = \"\"\"Ты - ИИ-помощник, созданный для поиска информации о составе газа в тексте.\n",
        "Оформи ответ на вопрос строго в соответствии с примером. Каждый пункт ответа должен включать:\n",
        "- название компонента газа из вопроса;\n",
        "- химическую формулу компонента газа из вопроса;\n",
        "- объёмную долю компонента газа из вопроса.\n",
        "\n",
        "ПРИМЕР ВОПРОСА:\n",
        "НАЗВАНИЕ: Азот жидкий особой чистоты 1 сорт\n",
        "ГОСТ / НОРМАТИВНЫЙ ДОКУМЕНТ: ГОСТ 9293 - 74\n",
        "ТРЕБОВАНИЯ К ПРОДУКТУ ПО ГОСТ:\n",
        "        Наименование показателя                Норма по ГОСТ\n",
        "        Объёмная доля азота, % не менее                99,999\n",
        "        Объёмная доля кислорода, % не более                0,0005\n",
        "        Содержание масла, механических примесей и влаги                выдерживает испытание\n",
        "        Объёмная доля водорода, % не более                0,0002\n",
        "        Объёмная доля суммы углеродсодержащих соединений в пересчете на СН4, % не более                0,0003\n",
        "ОСНОВНЫЕ СВОЙСТВА:\n",
        "Латинское название:  Nitrogenium\n",
        "CAS номер: 7727-37-9\n",
        "UN газа: 1066\n",
        "UN жидкости: 1977\n",
        "Код ООН: 1006\n",
        "Физико-химические свойства:\n",
        "Электронная конфигурация: 2s22p3\n",
        "Молекулярая масса: 28.0134\n",
        "Степень окисления: от +5 до -3\n",
        "Плотность: 1,251\n",
        "Удельная теплоёмкость: 1,034\n",
        "Теплопроводность: 0,026\n",
        "t кипения: -195,8 °C\n",
        "t плавления: -210 °C\n",
        "Внешние признаки: Без цвета вкуса и запаха, химически весьма инертен\n",
        "\n",
        "ПРИМЕР ОТВЕТА:\n",
        "* Азот - N - не менее 99.999%\n",
        "* Кислород - O - не более 0.0005%\n",
        "* Водород - H - не более 0.0002%\n",
        "\n",
        "ВОПРОС:\n",
        "\"\"\"\n",
        "    print(\"        Извлечение состава газа...\")\n",
        "    print(\"            Извлечение состава газа в виде списка...\")\n",
        "\n",
        "    raw_response = generate_response(qwen, template + sample + \"\\nОТВЕТ: \")\n",
        "\n",
        "    composition_list = \"\"\n",
        "    for i in raw_response.split('*'):\n",
        "        composition_list += i\n",
        "    if len(composition_list) == 0:\n",
        "        print(\"            ОШИБКА: Qwen3 не нашла данные о составе продукта.\")\n",
        "        print(\"        Завершено с ошибкой.\")\n",
        "        return None\n",
        "\n",
        "    print(\"            Завершено.\")\n",
        "    print(\"            Преобразование списка в запись в формате JSON...\")\n",
        "\n",
        "    template = \"\"\"Ты - ИИ-помощник, преобразующий списки в данные в формате JSON.\n",
        "Оформи ответ на вопрос в соответствии с примером.\n",
        "\n",
        "ПРИМЕР ВОПРОСА:\n",
        "* Азот - N - не менее 99,999%\n",
        "* Кислород - O - не более 0,0005%\n",
        "* Водород - H - не более 0,0002%\n",
        "\n",
        "ПРИМЕР ОТВЕТА: {\"components\":[{\"name\":\"Азот\",\"formula\":\"N\",\"value\":\"99.999\",\"operation\":\"не менее\"},{\"name\":\"Кислород\",\"formula\":\"O\",\"value\":\"0.0005\",\"operation\":\"не более\"},{\"name\":\"Водород\",\"formula\":\"H\",\"value\":\"0.0002\",\"operation\":\"не более\"}]}\n",
        "\n",
        "ВОПРОС:\n",
        "\"\"\"\n",
        "    response = generate_response(qwen, template + composition_list + \"\\n\\nОТВЕТ: \")\n",
        "\n",
        "    #Особенность конкретно Qwen3. Периодически она выдаёт в ответе ```json<ОТВЕТ>```.\n",
        "    if response[0] == '`':\n",
        "        response = response[7:len(response) - 3]\n",
        "\n",
        "    try:\n",
        "        result_json = json.loads(response)\n",
        "        print(\"        Завершено.\")\n",
        "        return result_json\n",
        "    except:\n",
        "        print(\"        ОШИБКА: Не удалось преобразовать полученную от Qwen3 информацию о составе газа в JSON-структуру.\")\n",
        "        return None"
      ]
    },
    {
      "cell_type": "code",
      "execution_count": 36,
      "metadata": {
        "id": "5MVRUDFOpL4w"
      },
      "outputs": [],
      "source": [
        "def extract_info(qwen, dataset):\n",
        "    extracted_info = [[], [], []]\n",
        "    extraction_error_count = [0, 0, 0]\n",
        "\n",
        "    #файл 24 - хороший пример\n",
        "    print(\"Извлечение информации из датасета...\")\n",
        "    for i in range(0,len(dataset)):\n",
        "        print(\"    Обработка файла \" + str(i) + \"/\" + str(len(dataset)) + \"...\")\n",
        "\n",
        "        extracted_basic_info = extract_gas_basic_info(qwen, dataset[i])\n",
        "        extracted_info[0].append(extracted_basic_info)\n",
        "        if extracted_basic_info == None:\n",
        "            extraction_error_count[0] += 1\n",
        "        else:\n",
        "            if \"gas_name\" in extracted_basic_info:\n",
        "                extracted_mark = extract_gas_mark(qwen, extracted_basic_info[\"gas_name\"])\n",
        "                extracted_info[1].append(extracted_mark)\n",
        "                if extracted_mark == None:\n",
        "                    extraction_error_count[1] += 1\n",
        "            else:\n",
        "                extracted_info[1].append(None)\n",
        "\n",
        "        extracted_composition = extract_gas_composition(qwen, dataset[i])\n",
        "        extracted_info[2].append(extracted_composition)\n",
        "        if extracted_composition == None:\n",
        "            extraction_error_count[2] += 1\n",
        "\n",
        "    print((\"Завершено (\"\n",
        "           + str(extraction_error_count[0])\n",
        "           + \" ошибок извлечения основной информации, \"\n",
        "           + str(extraction_error_count[1])\n",
        "           + \" ошибок извлечения информации о марке газа, \"\n",
        "           + str(extraction_error_count[2])\n",
        "           + \" ошибок извлечения состава).\"))\n",
        "\n",
        "    return extracted_info"
      ]
    },
    {
      "cell_type": "markdown",
      "metadata": {
        "id": "a0GhqLxSeBeF"
      },
      "source": [
        "## Подготовка датасета, загрузка и запуск Qwen3, извлечение данных из датасета и сохранение данных"
      ]
    },
    {
      "cell_type": "code",
      "execution_count": 2,
      "metadata": {
        "id": "bCG4N4Rodavq"
      },
      "outputs": [],
      "source": [
        "def load_dataset(dataset_path):\n",
        "    if not os.path.isdir(dataset_path):\n",
        "        if not os.path.isfile(dataset_path):\n",
        "            raise Exception(\"Error: file not found.\")\n",
        "\n",
        "        name, extension = os.path.splitext(dataset_path)\n",
        "        print(extension)\n",
        "        if extension == \".zip\":\n",
        "            with zipfile.ZipFile(dataset_path, 'r') as zip_ref:\n",
        "                zip_ref.extractall(name)\n",
        "            dataset_path = name\n",
        "        else:\n",
        "            raise Exception(\"Error: unsupported file type.\")\n",
        "\n",
        "    dataset_file_names = os.listdir(dataset_path)\n",
        "\n",
        "    dataset = []\n",
        "    loaded_file_count = 0\n",
        "    ignored_file_count = 0\n",
        "\n",
        "    print(\"Загрузка датасета...\")\n",
        "    for i in dataset_file_names:\n",
        "        f = open(dataset_path + \"/\" + i, 'r', encoding=\"utf-8\")\n",
        "\n",
        "        #Файлы, не содержащие информацию о ГОСТ или другом нормативном документе, игнорируются.\n",
        "        buffer = f.readlines()\n",
        "        ignore = True\n",
        "        for j in buffer:\n",
        "            if j.find(\"ГОСТ\") != -1:\n",
        "                ignore = False\n",
        "                break\n",
        "        if ignore:\n",
        "            print(\"    ПРЕДУПРЕЖДЕНИЕ: Файл \\\"\" + i + \"\\\" не содержит информацию о ГОСТ. Файл пропущен.\")\n",
        "            ignored_file_count += 1\n",
        "        else:\n",
        "            loaded_file_count += 1\n",
        "            buffer2 = \"\"\n",
        "            for j in buffer:\n",
        "                buffer2 += j\n",
        "            dataset.append(buffer2)\n",
        "\n",
        "        f.close()\n",
        "\n",
        "    print(\"Завершено (\" + str(len(dataset_file_names)) + \" всего, \" + str(loaded_file_count) + \" загружено, \" + str(ignored_file_count) + \" пропущено).\")\n",
        "    return dataset"
      ]
    },
    {
      "cell_type": "code",
      "execution_count": null,
      "metadata": {
        "id": "sWU-erclesHJ"
      },
      "outputs": [],
      "source": [
        "dataset = load_dataset(\"niikm_data.zip\")"
      ]
    },
    {
      "cell_type": "code",
      "execution_count": null,
      "metadata": {
        "id": "7GzE7BVmbXbm"
      },
      "outputs": [],
      "source": [
        "os.environ[\"KAGGLE_USERNAME\"] = userdata.get('KAGGLE_USERNAME')\n",
        "os.environ[\"KAGGLE_KEY\"] = userdata.get('KAGGLE_KEY')\n",
        "\n",
        "model_name = kagglehub.model_download(\"qwen-lm/qwen-3/transformers/0.6b\")\n",
        "\n",
        "tokenizer = AutoTokenizer.from_pretrained(model_name)\n",
        "model = AutoModelForCausalLM.from_pretrained(model_name, torch_dtype=\"auto\", device_map=\"auto\")"
      ]
    },
    {
      "cell_type": "code",
      "execution_count": null,
      "metadata": {
        "id": "j57tAXIIqQLY"
      },
      "outputs": [],
      "source": [
        "extracted_info = extract_info((model, tokenizer), dataset)"
      ]
    },
    {
      "cell_type": "code",
      "execution_count": 68,
      "metadata": {
        "id": "aUlMy7irdxf2"
      },
      "outputs": [],
      "source": [
        "f = open(\"qwen3_extracted_info.json\",\"w\")\n",
        "f.write(json.dumps(extracted_info,ensure_ascii=False,indent=4))\n",
        "f.close()"
      ]
    }
  ],
  "metadata": {
    "accelerator": "GPU",
    "colab": {
      "gpuType": "T4",
      "provenance": []
    },
    "kernelspec": {
      "display_name": "Python 3",
      "name": "python3"
    },
    "language_info": {
      "name": "python"
    }
  },
  "nbformat": 4,
  "nbformat_minor": 0
}
