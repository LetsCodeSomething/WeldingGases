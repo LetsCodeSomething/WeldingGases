{
  "cells": [
    {
      "cell_type": "markdown",
      "metadata": {},
      "source": [
        "# Установка Gemma.cpp (веса с Kaggle, остальное с Github)"
      ]
    },
    {
      "cell_type": "code",
      "execution_count": null,
      "metadata": {},
      "outputs": [],
      "source": [
        "!git clone https://github.com/google/gemma.cpp"
      ]
    },
    {
      "cell_type": "code",
      "execution_count": null,
      "metadata": {},
      "outputs": [],
      "source": [
        "%cd /content/gemma.cpp/\n",
        "!cmake -B build/\n",
        "%cd build\n",
        "!cmake --preset make\n",
        "!cmake --build --preset make -j 2"
      ]
    },
    {
      "cell_type": "code",
      "execution_count": null,
      "metadata": {},
      "outputs": [],
      "source": [
        "import kagglehub\n",
        "\n",
        "# path = kagglehub.model_download(\"google/gemma/gemmaCpp/2b-it-sfp\")\n",
        "# print(\"Path to model files:\", path)\n",
        "\n",
        "path = kagglehub.model_download(\"google/gemma/gemmaCpp/7b-it-sfp\")\n",
        "print(\"Path to model files:\", path)"
      ]
    },
    {
      "cell_type": "code",
      "execution_count": null,
      "metadata": {},
      "outputs": [],
      "source": [
        "#%cd /root/.cache/kagglehub/models/google/gemma/gemmaCpp/2b-it-sfp/4\n",
        "#!mv 2b-it-sfp.sbs /content/2b-it-sfp.sbs\n",
        "#!mv tokenizer.spm /content/tokenizer.spm\n",
        "\n",
        "%cd /root/.cache/kagglehub/models/google/gemma/gemmaCpp/7b-it-sfp/3\n",
        "!mkdir /content/gemmacpp_7b_it_sfp\n",
        "!mv 7b-it-sfp.sbs /content/gemmacpp_7b_it_sfp/7b-it-sfp.sbs\n",
        "!mv tokenizer.spm /content/gemmacpp_7b_it_sfp/tokenizer.spm\n",
        "\n",
        "\n",
        "\n",
        "%cd /content/gemma.cpp/build/"
      ]
    },
    {
      "cell_type": "code",
      "execution_count": null,
      "metadata": {},
      "outputs": [],
      "source": [
        "!./gemma --tokenizer /content/tokenizer.spm --weights /content/2b-it-sfp.sbs --weight_type sfp --model 2b-it\n",
        "\n",
        "#!./gemma --tokenizer /content/gemmacpp_7b_it_sfp/tokenizer.spm --weights /content/gemmacpp_7b_it_sfp/7b-it-sfp.sbs --weight_type sfp --model 7b-it"
      ]
    }
  ],
  "metadata": {
    "colab": {
      "provenance": []
    },
    "kernelspec": {
      "display_name": "Python 3",
      "name": "python3"
    },
    "language_info": {
      "name": "python"
    }
  },
  "nbformat": 4,
  "nbformat_minor": 0
}
